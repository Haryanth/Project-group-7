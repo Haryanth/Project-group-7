{
  "cells": [
    {
      "cell_type": "markdown",
      "source": [
        "# INFO 5810 Data Analysis and Knowledge Discovery \n",
        "\n",
        "Topic : Disaster data mining based on social media texts\n",
        "\n",
        "Group Team 7\n",
        "\n",
        "Project Second Submission\n",
        "\n",
        "\n",
        "\n",
        "\n",
        "Dataset: https://www.kaggle.com/datasets/vstepanenko/disaster-tweets?resource=download\n",
        "\n",
        "we have choosen above disaster dataset from the twitter social media platform as it has most of all disasters happen in various locations around the united states it have fields like id,keyword,location,text,target where target is 1 will defines the disater incident as real.\n",
        "\n",
        "Cleaning and Analysis Steps :\n",
        "\n",
        "\n",
        "\n",
        "\n",
        "Github url: https://github.com/Haryanth/Project-group-7\n",
        "\n",
        " \n",
        "\n"
      ],
      "metadata": {
        "id": "VRtT1EvbMepB"
      },
      "id": "VRtT1EvbMepB"
    },
    {
      "cell_type": "code",
      "execution_count": 63,
      "id": "08fe2abc",
      "metadata": {
        "colab": {
          "base_uri": "https://localhost:8080/"
        },
        "id": "08fe2abc",
        "outputId": "15b2e0cd-0d34-46c7-c347-fe3f29faa7e0"
      },
      "outputs": [
        {
          "output_type": "stream",
          "name": "stdout",
          "text": [
            "The first five records are \n",
            "The number of rows and columns are  11370 and 5\n"
          ]
        }
      ],
      "source": [
        "import pandas as pd\n",
        "import numpy as np\n",
        "import matplotlib.pyplot as plt\n",
        "import seaborn as sns\n",
        "import matplotlib as plt2\n",
        "\n",
        "# reading csv file\n",
        "df = pd.read_csv(\"/content/tweets.csv\")\n",
        "                 \n",
        "\n",
        "#First 5 records \n",
        "print(\"The first five records are \")\n",
        "df.head(5)\n",
        "\n",
        "print(\"The number of rows and columns are \",len(df.axes[0]),'and',len(df.axes[1]))"
      ]
    },
    {
      "cell_type": "code",
      "execution_count": 64,
      "id": "15e1a921",
      "metadata": {
        "colab": {
          "base_uri": "https://localhost:8080/"
        },
        "id": "15e1a921",
        "outputId": "095354f3-0d13-492a-cf0d-7e8a044c41d4"
      },
      "outputs": [
        {
          "output_type": "stream",
          "name": "stdout",
          "text": [
            "The number of rows and columns are  7952 and 5\n"
          ]
        }
      ],
      "source": [
        "#Remove empty cells\n",
        "\n",
        "new_df = df.dropna()\n",
        "\n",
        "\n",
        "print(\"The number of rows and columns are \",len(new_df.axes[0]),'and',len(new_df.axes[1]))"
      ]
    },
    {
      "cell_type": "code",
      "execution_count": 65,
      "id": "8780bcb2",
      "metadata": {
        "colab": {
          "base_uri": "https://localhost:8080/"
        },
        "id": "8780bcb2",
        "outputId": "522736c0-b4f7-44da-f830-a7a47492ad16"
      },
      "outputs": [
        {
          "output_type": "stream",
          "name": "stdout",
          "text": [
            " The number of missing values in each column are \n",
            "id             0\n",
            "keyword        0\n",
            "location    3418\n",
            "text           0\n",
            "target         0\n",
            "dtype: int64\n"
          ]
        }
      ],
      "source": [
        "# As there are nearly 4k records were removed, it is good to replace those empty values \n",
        "print(' The number of missing values in each column are ')\n",
        "print(df.isnull().sum())\n"
      ]
    },
    {
      "cell_type": "code",
      "execution_count": 66,
      "id": "277c8cca",
      "metadata": {
        "colab": {
          "base_uri": "https://localhost:8080/"
        },
        "id": "277c8cca",
        "outputId": "92aa81d8-44f1-4d9b-b6c2-138af1f14592"
      },
      "outputs": [
        {
          "output_type": "stream",
          "name": "stdout",
          "text": [
            "United States              96\n",
            "Australia                  83\n",
            "London, England            81\n",
            "UK                         77\n",
            "India                      74\n",
            "                           ..\n",
            "Great State of Texas        1\n",
            "Karatina, Kenya             1\n",
            "The internet or the gym     1\n",
            "Reston, VA                  1\n",
            "auroraborealis              1\n",
            "Name: location, Length: 4504, dtype: int64\n"
          ]
        }
      ],
      "source": [
        "# From above analysis it is evident that the location column only has missing values\n",
        "\n",
        "#Finding different values in location column and their counts\n",
        "print(df.location.value_counts())"
      ]
    },
    {
      "cell_type": "code",
      "execution_count": 68,
      "id": "8712e9a5",
      "metadata": {
        "colab": {
          "base_uri": "https://localhost:8080/"
        },
        "id": "8712e9a5",
        "outputId": "720fc057-128c-4a88-bf20-939e55c66669"
      },
      "outputs": [
        {
          "output_type": "stream",
          "name": "stdout",
          "text": [
            "No.of.unique values : 4505\n"
          ]
        }
      ],
      "source": [
        "#Unique values in location column\n",
        "n = len(pd.unique(df['location']))\n",
        "  \n",
        "print(\"No.of.unique values :\", n)"
      ]
    },
    {
      "cell_type": "code",
      "execution_count": 69,
      "id": "67515419",
      "metadata": {
        "colab": {
          "base_uri": "https://localhost:8080/"
        },
        "id": "67515419",
        "outputId": "25d350a9-1140-412b-f1dc-c25b8db1114e"
      },
      "outputs": [
        {
          "output_type": "stream",
          "name": "stdout",
          "text": [
            "The number of rows and columns are  7952 and 5\n",
            "Missing values in each column are \n",
            "id          0\n",
            "keyword     0\n",
            "location    0\n",
            "text        0\n",
            "target      0\n",
            "dtype: int64\n"
          ]
        }
      ],
      "source": [
        "#From the above trend, as location are nominal type of values and there are 4505 unique values it if\n",
        "#good to replace this value with mode as the count of mode is 96 which is way small when compared to 8k records\n",
        "#It is best to remove those records\n",
        "\n",
        "#Removing missing records\n",
        "df.dropna(inplace = True)\n",
        "print(\"The number of rows and columns are \",len(df.axes[0]),'and',len(df.axes[1]))\n",
        "print(\"Missing values in each column are \")\n",
        "print(df.isnull().sum())"
      ]
    },
    {
      "cell_type": "code",
      "execution_count": 70,
      "id": "b42d0ec5",
      "metadata": {
        "colab": {
          "base_uri": "https://localhost:8080/"
        },
        "id": "b42d0ec5",
        "outputId": "177170a7-55d6-4b36-d57b-b68300f67019"
      },
      "outputs": [
        {
          "output_type": "stream",
          "name": "stdout",
          "text": [
            "Columns and their data types are \n",
            "<class 'pandas.core.frame.DataFrame'>\n",
            "Int64Index: 7952 entries, 2 to 11368\n",
            "Data columns (total 5 columns):\n",
            " #   Column    Non-Null Count  Dtype \n",
            "---  ------    --------------  ----- \n",
            " 0   id        7952 non-null   int64 \n",
            " 1   keyword   7952 non-null   object\n",
            " 2   location  7952 non-null   object\n",
            " 3   text      7952 non-null   object\n",
            " 4   target    7952 non-null   int64 \n",
            "dtypes: int64(2), object(3)\n",
            "memory usage: 372.8+ KB\n",
            "None\n"
          ]
        }
      ],
      "source": [
        "#Different columns and their data types\n",
        "print('Columns and their data types are ')\n",
        "print(df.info())"
      ]
    },
    {
      "cell_type": "code",
      "execution_count": 71,
      "id": "b110f0b6",
      "metadata": {
        "id": "b110f0b6"
      },
      "outputs": [],
      "source": [
        "#Removing duplicates\n",
        "df.drop_duplicates(inplace = True)"
      ]
    },
    {
      "cell_type": "code",
      "execution_count": 72,
      "id": "10663d2f",
      "metadata": {
        "colab": {
          "base_uri": "https://localhost:8080/"
        },
        "id": "10663d2f",
        "outputId": "d1e4f079-3878-4356-c6a0-e67bec48a9e1"
      },
      "outputs": [
        {
          "output_type": "stream",
          "name": "stdout",
          "text": [
            "The number of rows and columns are  7952 and 5\n"
          ]
        }
      ],
      "source": [
        "print(\"The number of rows and columns are \",len(df.axes[0]),'and',len(df.axes[1]))"
      ]
    },
    {
      "cell_type": "code",
      "source": [
        "df.to_csv('./disasters_cleaned.csv', index=False)"
      ],
      "metadata": {
        "id": "_0ooIWXre9xY"
      },
      "id": "_0ooIWXre9xY",
      "execution_count": 74,
      "outputs": []
    },
    {
      "cell_type": "code",
      "source": [
        "df"
      ],
      "metadata": {
        "colab": {
          "base_uri": "https://localhost:8080/",
          "height": 423
        },
        "id": "iz6Itectx3Av",
        "outputId": "1c87185d-d411-41ba-be43-e183cb85335d"
      },
      "id": "iz6Itectx3Av",
      "execution_count": 16,
      "outputs": [
        {
          "output_type": "execute_result",
          "data": {
            "text/plain": [
              "          id  keyword                 location  \\\n",
              "2          2   ablaze            New York City   \n",
              "3          3   ablaze           Morgantown, WV   \n",
              "5          5   ablaze                       OC   \n",
              "6          6   ablaze          London, England   \n",
              "7          7   ablaze                   Bharat   \n",
              "...      ...      ...                      ...   \n",
              "11362  11362  wrecked         feuille d'érable   \n",
              "11365  11365  wrecked  Blue State in a red sea   \n",
              "11366  11366  wrecked               arohaonces   \n",
              "11367  11367  wrecked                       🇵🇭   \n",
              "11368  11368  wrecked           auroraborealis   \n",
              "\n",
              "                                                    text  target  \n",
              "2      Arsonist sets cars ablaze at dealership https:...       1  \n",
              "3      Arsonist sets cars ablaze at dealership https:...       1  \n",
              "5      If this child was Chinese, this tweet would ha...       0  \n",
              "6      Several houses have been set ablaze in Ngemsib...       1  \n",
              "7      Asansol: A BJP office in Salanpur village was ...       1  \n",
              "...                                                  ...     ...  \n",
              "11362  Stell wrecked ako palagi sayo. Haha. #ALABTopS...       0  \n",
              "11365  Media should have warned us well in advance. T...       0  \n",
              "11366  i feel directly attacked 💀 i consider moonbin ...       0  \n",
              "11367  i feel directly attacked 💀 i consider moonbin ...       0  \n",
              "11368  ok who remember \"outcast\" nd the \"dora\" au?? T...       0  \n",
              "\n",
              "[7952 rows x 5 columns]"
            ],
            "text/html": [
              "\n",
              "  <div id=\"df-479a6c1f-93e8-478d-b614-2fb2d4dbc4c7\">\n",
              "    <div class=\"colab-df-container\">\n",
              "      <div>\n",
              "<style scoped>\n",
              "    .dataframe tbody tr th:only-of-type {\n",
              "        vertical-align: middle;\n",
              "    }\n",
              "\n",
              "    .dataframe tbody tr th {\n",
              "        vertical-align: top;\n",
              "    }\n",
              "\n",
              "    .dataframe thead th {\n",
              "        text-align: right;\n",
              "    }\n",
              "</style>\n",
              "<table border=\"1\" class=\"dataframe\">\n",
              "  <thead>\n",
              "    <tr style=\"text-align: right;\">\n",
              "      <th></th>\n",
              "      <th>id</th>\n",
              "      <th>keyword</th>\n",
              "      <th>location</th>\n",
              "      <th>text</th>\n",
              "      <th>target</th>\n",
              "    </tr>\n",
              "  </thead>\n",
              "  <tbody>\n",
              "    <tr>\n",
              "      <th>2</th>\n",
              "      <td>2</td>\n",
              "      <td>ablaze</td>\n",
              "      <td>New York City</td>\n",
              "      <td>Arsonist sets cars ablaze at dealership https:...</td>\n",
              "      <td>1</td>\n",
              "    </tr>\n",
              "    <tr>\n",
              "      <th>3</th>\n",
              "      <td>3</td>\n",
              "      <td>ablaze</td>\n",
              "      <td>Morgantown, WV</td>\n",
              "      <td>Arsonist sets cars ablaze at dealership https:...</td>\n",
              "      <td>1</td>\n",
              "    </tr>\n",
              "    <tr>\n",
              "      <th>5</th>\n",
              "      <td>5</td>\n",
              "      <td>ablaze</td>\n",
              "      <td>OC</td>\n",
              "      <td>If this child was Chinese, this tweet would ha...</td>\n",
              "      <td>0</td>\n",
              "    </tr>\n",
              "    <tr>\n",
              "      <th>6</th>\n",
              "      <td>6</td>\n",
              "      <td>ablaze</td>\n",
              "      <td>London, England</td>\n",
              "      <td>Several houses have been set ablaze in Ngemsib...</td>\n",
              "      <td>1</td>\n",
              "    </tr>\n",
              "    <tr>\n",
              "      <th>7</th>\n",
              "      <td>7</td>\n",
              "      <td>ablaze</td>\n",
              "      <td>Bharat</td>\n",
              "      <td>Asansol: A BJP office in Salanpur village was ...</td>\n",
              "      <td>1</td>\n",
              "    </tr>\n",
              "    <tr>\n",
              "      <th>...</th>\n",
              "      <td>...</td>\n",
              "      <td>...</td>\n",
              "      <td>...</td>\n",
              "      <td>...</td>\n",
              "      <td>...</td>\n",
              "    </tr>\n",
              "    <tr>\n",
              "      <th>11362</th>\n",
              "      <td>11362</td>\n",
              "      <td>wrecked</td>\n",
              "      <td>feuille d'érable</td>\n",
              "      <td>Stell wrecked ako palagi sayo. Haha. #ALABTopS...</td>\n",
              "      <td>0</td>\n",
              "    </tr>\n",
              "    <tr>\n",
              "      <th>11365</th>\n",
              "      <td>11365</td>\n",
              "      <td>wrecked</td>\n",
              "      <td>Blue State in a red sea</td>\n",
              "      <td>Media should have warned us well in advance. T...</td>\n",
              "      <td>0</td>\n",
              "    </tr>\n",
              "    <tr>\n",
              "      <th>11366</th>\n",
              "      <td>11366</td>\n",
              "      <td>wrecked</td>\n",
              "      <td>arohaonces</td>\n",
              "      <td>i feel directly attacked 💀 i consider moonbin ...</td>\n",
              "      <td>0</td>\n",
              "    </tr>\n",
              "    <tr>\n",
              "      <th>11367</th>\n",
              "      <td>11367</td>\n",
              "      <td>wrecked</td>\n",
              "      <td>🇵🇭</td>\n",
              "      <td>i feel directly attacked 💀 i consider moonbin ...</td>\n",
              "      <td>0</td>\n",
              "    </tr>\n",
              "    <tr>\n",
              "      <th>11368</th>\n",
              "      <td>11368</td>\n",
              "      <td>wrecked</td>\n",
              "      <td>auroraborealis</td>\n",
              "      <td>ok who remember \"outcast\" nd the \"dora\" au?? T...</td>\n",
              "      <td>0</td>\n",
              "    </tr>\n",
              "  </tbody>\n",
              "</table>\n",
              "<p>7952 rows × 5 columns</p>\n",
              "</div>\n",
              "      <button class=\"colab-df-convert\" onclick=\"convertToInteractive('df-479a6c1f-93e8-478d-b614-2fb2d4dbc4c7')\"\n",
              "              title=\"Convert this dataframe to an interactive table.\"\n",
              "              style=\"display:none;\">\n",
              "        \n",
              "  <svg xmlns=\"http://www.w3.org/2000/svg\" height=\"24px\"viewBox=\"0 0 24 24\"\n",
              "       width=\"24px\">\n",
              "    <path d=\"M0 0h24v24H0V0z\" fill=\"none\"/>\n",
              "    <path d=\"M18.56 5.44l.94 2.06.94-2.06 2.06-.94-2.06-.94-.94-2.06-.94 2.06-2.06.94zm-11 1L8.5 8.5l.94-2.06 2.06-.94-2.06-.94L8.5 2.5l-.94 2.06-2.06.94zm10 10l.94 2.06.94-2.06 2.06-.94-2.06-.94-.94-2.06-.94 2.06-2.06.94z\"/><path d=\"M17.41 7.96l-1.37-1.37c-.4-.4-.92-.59-1.43-.59-.52 0-1.04.2-1.43.59L10.3 9.45l-7.72 7.72c-.78.78-.78 2.05 0 2.83L4 21.41c.39.39.9.59 1.41.59.51 0 1.02-.2 1.41-.59l7.78-7.78 2.81-2.81c.8-.78.8-2.07 0-2.86zM5.41 20L4 18.59l7.72-7.72 1.47 1.35L5.41 20z\"/>\n",
              "  </svg>\n",
              "      </button>\n",
              "      \n",
              "  <style>\n",
              "    .colab-df-container {\n",
              "      display:flex;\n",
              "      flex-wrap:wrap;\n",
              "      gap: 12px;\n",
              "    }\n",
              "\n",
              "    .colab-df-convert {\n",
              "      background-color: #E8F0FE;\n",
              "      border: none;\n",
              "      border-radius: 50%;\n",
              "      cursor: pointer;\n",
              "      display: none;\n",
              "      fill: #1967D2;\n",
              "      height: 32px;\n",
              "      padding: 0 0 0 0;\n",
              "      width: 32px;\n",
              "    }\n",
              "\n",
              "    .colab-df-convert:hover {\n",
              "      background-color: #E2EBFA;\n",
              "      box-shadow: 0px 1px 2px rgba(60, 64, 67, 0.3), 0px 1px 3px 1px rgba(60, 64, 67, 0.15);\n",
              "      fill: #174EA6;\n",
              "    }\n",
              "\n",
              "    [theme=dark] .colab-df-convert {\n",
              "      background-color: #3B4455;\n",
              "      fill: #D2E3FC;\n",
              "    }\n",
              "\n",
              "    [theme=dark] .colab-df-convert:hover {\n",
              "      background-color: #434B5C;\n",
              "      box-shadow: 0px 1px 3px 1px rgba(0, 0, 0, 0.15);\n",
              "      filter: drop-shadow(0px 1px 2px rgba(0, 0, 0, 0.3));\n",
              "      fill: #FFFFFF;\n",
              "    }\n",
              "  </style>\n",
              "\n",
              "      <script>\n",
              "        const buttonEl =\n",
              "          document.querySelector('#df-479a6c1f-93e8-478d-b614-2fb2d4dbc4c7 button.colab-df-convert');\n",
              "        buttonEl.style.display =\n",
              "          google.colab.kernel.accessAllowed ? 'block' : 'none';\n",
              "\n",
              "        async function convertToInteractive(key) {\n",
              "          const element = document.querySelector('#df-479a6c1f-93e8-478d-b614-2fb2d4dbc4c7');\n",
              "          const dataTable =\n",
              "            await google.colab.kernel.invokeFunction('convertToInteractive',\n",
              "                                                     [key], {});\n",
              "          if (!dataTable) return;\n",
              "\n",
              "          const docLinkHtml = 'Like what you see? Visit the ' +\n",
              "            '<a target=\"_blank\" href=https://colab.research.google.com/notebooks/data_table.ipynb>data table notebook</a>'\n",
              "            + ' to learn more about interactive tables.';\n",
              "          element.innerHTML = '';\n",
              "          dataTable['output_type'] = 'display_data';\n",
              "          await google.colab.output.renderOutput(dataTable, element);\n",
              "          const docLink = document.createElement('div');\n",
              "          docLink.innerHTML = docLinkHtml;\n",
              "          element.appendChild(docLink);\n",
              "        }\n",
              "      </script>\n",
              "    </div>\n",
              "  </div>\n",
              "  "
            ]
          },
          "metadata": {},
          "execution_count": 16
        }
      ]
    },
    {
      "cell_type": "code",
      "source": [
        "sns.pairplot(df[['target','location','keyword','id']]);"
      ],
      "metadata": {
        "colab": {
          "base_uri": "https://localhost:8080/",
          "height": 374
        },
        "id": "lQla56LEwTfC",
        "outputId": "faeb691b-57ba-4d70-b3d3-ce19b8cbcfde"
      },
      "id": "lQla56LEwTfC",
      "execution_count": 21,
      "outputs": [
        {
          "output_type": "display_data",
          "data": {
            "text/plain": [
              "<Figure size 360x360 with 6 Axes>"
            ],
            "image/png": "[encoded data removed]"
          },
          "metadata": {
            "needs_background": "light"
          }
        }
      ]
    },
    {
      "cell_type": "code",
      "source": [
        "disaster_types = df['keyword'].unique()\n",
        "print(\"Types of Disasters reported:\\n\\n\", 'location')\n",
        "print(\"Occurrences:\\n\\n\",df['keyword'].value_counts())"
      ],
      "metadata": {
        "colab": {
          "base_uri": "https://localhost:8080/"
        },
        "id": "aHWv1SZqymux",
        "outputId": "a9fff16b-1615-413f-9a45-a7943fa65c0e"
      },
      "id": "aHWv1SZqymux",
      "execution_count": 22,
      "outputs": [
        {
          "output_type": "stream",
          "name": "stdout",
          "text": [
            "Types of Disasters reported:\n",
            "\n",
            " location\n",
            "Occurrences:\n",
            "\n",
            " flattened       71\n",
            "thunderstorm    70\n",
            "collision       66\n",
            "engulfed        66\n",
            "stretcher       64\n",
            "                ..\n",
            "exploded        11\n",
            "siren            7\n",
            "deluged          6\n",
            "rainstorm        6\n",
            "tsunami          5\n",
            "Name: keyword, Length: 219, dtype: int64\n"
          ]
        }
      ]
    },
    {
      "cell_type": "code",
      "execution_count": 12,
      "id": "565121bb",
      "metadata": {
        "colab": {
          "base_uri": "https://localhost:8080/",
          "height": 300
        },
        "id": "565121bb",
        "outputId": "0b4d5f75-bcc7-4380-ceb2-7897c702da60"
      },
      "outputs": [
        {
          "output_type": "execute_result",
          "data": {
            "text/plain": [
              "                 id       target\n",
              "count   7952.000000  7952.000000\n",
              "mean    5679.721705     0.192530\n",
              "std     3260.075795     0.394312\n",
              "min        2.000000     0.000000\n",
              "25%     2854.750000     0.000000\n",
              "50%     5674.500000     0.000000\n",
              "75%     8507.500000     0.000000\n",
              "max    11368.000000     1.000000"
            ],
            "text/html": [
              "\n",
              "  <div id=\"df-e1cf4ca7-921b-4075-b4f3-12b7c16a10cc\">\n",
              "    <div class=\"colab-df-container\">\n",
              "      <div>\n",
              "<style scoped>\n",
              "    .dataframe tbody tr th:only-of-type {\n",
              "        vertical-align: middle;\n",
              "    }\n",
              "\n",
              "    .dataframe tbody tr th {\n",
              "        vertical-align: top;\n",
              "    }\n",
              "\n",
              "    .dataframe thead th {\n",
              "        text-align: right;\n",
              "    }\n",
              "</style>\n",
              "<table border=\"1\" class=\"dataframe\">\n",
              "  <thead>\n",
              "    <tr style=\"text-align: right;\">\n",
              "      <th></th>\n",
              "      <th>id</th>\n",
              "      <th>target</th>\n",
              "    </tr>\n",
              "  </thead>\n",
              "  <tbody>\n",
              "    <tr>\n",
              "      <th>count</th>\n",
              "      <td>7952.000000</td>\n",
              "      <td>7952.000000</td>\n",
              "    </tr>\n",
              "    <tr>\n",
              "      <th>mean</th>\n",
              "      <td>5679.721705</td>\n",
              "      <td>0.192530</td>\n",
              "    </tr>\n",
              "    <tr>\n",
              "      <th>std</th>\n",
              "      <td>3260.075795</td>\n",
              "      <td>0.394312</td>\n",
              "    </tr>\n",
              "    <tr>\n",
              "      <th>min</th>\n",
              "      <td>2.000000</td>\n",
              "      <td>0.000000</td>\n",
              "    </tr>\n",
              "    <tr>\n",
              "      <th>25%</th>\n",
              "      <td>2854.750000</td>\n",
              "      <td>0.000000</td>\n",
              "    </tr>\n",
              "    <tr>\n",
              "      <th>50%</th>\n",
              "      <td>5674.500000</td>\n",
              "      <td>0.000000</td>\n",
              "    </tr>\n",
              "    <tr>\n",
              "      <th>75%</th>\n",
              "      <td>8507.500000</td>\n",
              "      <td>0.000000</td>\n",
              "    </tr>\n",
              "    <tr>\n",
              "      <th>max</th>\n",
              "      <td>11368.000000</td>\n",
              "      <td>1.000000</td>\n",
              "    </tr>\n",
              "  </tbody>\n",
              "</table>\n",
              "</div>\n",
              "      <button class=\"colab-df-convert\" onclick=\"convertToInteractive('df-e1cf4ca7-921b-4075-b4f3-12b7c16a10cc')\"\n",
              "              title=\"Convert this dataframe to an interactive table.\"\n",
              "              style=\"display:none;\">\n",
              "        \n",
              "  <svg xmlns=\"http://www.w3.org/2000/svg\" height=\"24px\"viewBox=\"0 0 24 24\"\n",
              "       width=\"24px\">\n",
              "    <path d=\"M0 0h24v24H0V0z\" fill=\"none\"/>\n",
              "    <path d=\"M18.56 5.44l.94 2.06.94-2.06 2.06-.94-2.06-.94-.94-2.06-.94 2.06-2.06.94zm-11 1L8.5 8.5l.94-2.06 2.06-.94-2.06-.94L8.5 2.5l-.94 2.06-2.06.94zm10 10l.94 2.06.94-2.06 2.06-.94-2.06-.94-.94-2.06-.94 2.06-2.06.94z\"/><path d=\"M17.41 7.96l-1.37-1.37c-.4-.4-.92-.59-1.43-.59-.52 0-1.04.2-1.43.59L10.3 9.45l-7.72 7.72c-.78.78-.78 2.05 0 2.83L4 21.41c.39.39.9.59 1.41.59.51 0 1.02-.2 1.41-.59l7.78-7.78 2.81-2.81c.8-.78.8-2.07 0-2.86zM5.41 20L4 18.59l7.72-7.72 1.47 1.35L5.41 20z\"/>\n",
              "  </svg>\n",
              "      </button>\n",
              "      \n",
              "  <style>\n",
              "    .colab-df-container {\n",
              "      display:flex;\n",
              "      flex-wrap:wrap;\n",
              "      gap: 12px;\n",
              "    }\n",
              "\n",
              "    .colab-df-convert {\n",
              "      background-color: #E8F0FE;\n",
              "      border: none;\n",
              "      border-radius: 50%;\n",
              "      cursor: pointer;\n",
              "      display: none;\n",
              "      fill: #1967D2;\n",
              "      height: 32px;\n",
              "      padding: 0 0 0 0;\n",
              "      width: 32px;\n",
              "    }\n",
              "\n",
              "    .colab-df-convert:hover {\n",
              "      background-color: #E2EBFA;\n",
              "      box-shadow: 0px 1px 2px rgba(60, 64, 67, 0.3), 0px 1px 3px 1px rgba(60, 64, 67, 0.15);\n",
              "      fill: #174EA6;\n",
              "    }\n",
              "\n",
              "    [theme=dark] .colab-df-convert {\n",
              "      background-color: #3B4455;\n",
              "      fill: #D2E3FC;\n",
              "    }\n",
              "\n",
              "    [theme=dark] .colab-df-convert:hover {\n",
              "      background-color: #434B5C;\n",
              "      box-shadow: 0px 1px 3px 1px rgba(0, 0, 0, 0.15);\n",
              "      filter: drop-shadow(0px 1px 2px rgba(0, 0, 0, 0.3));\n",
              "      fill: #FFFFFF;\n",
              "    }\n",
              "  </style>\n",
              "\n",
              "      <script>\n",
              "        const buttonEl =\n",
              "          document.querySelector('#df-e1cf4ca7-921b-4075-b4f3-12b7c16a10cc button.colab-df-convert');\n",
              "        buttonEl.style.display =\n",
              "          google.colab.kernel.accessAllowed ? 'block' : 'none';\n",
              "\n",
              "        async function convertToInteractive(key) {\n",
              "          const element = document.querySelector('#df-e1cf4ca7-921b-4075-b4f3-12b7c16a10cc');\n",
              "          const dataTable =\n",
              "            await google.colab.kernel.invokeFunction('convertToInteractive',\n",
              "                                                     [key], {});\n",
              "          if (!dataTable) return;\n",
              "\n",
              "          const docLinkHtml = 'Like what you see? Visit the ' +\n",
              "            '<a target=\"_blank\" href=https://colab.research.google.com/notebooks/data_table.ipynb>data table notebook</a>'\n",
              "            + ' to learn more about interactive tables.';\n",
              "          element.innerHTML = '';\n",
              "          dataTable['output_type'] = 'display_data';\n",
              "          await google.colab.output.renderOutput(dataTable, element);\n",
              "          const docLink = document.createElement('div');\n",
              "          docLink.innerHTML = docLinkHtml;\n",
              "          element.appendChild(docLink);\n",
              "        }\n",
              "      </script>\n",
              "    </div>\n",
              "  </div>\n",
              "  "
            ]
          },
          "metadata": {},
          "execution_count": 12
        }
      ],
      "source": [
        "#From above it is evident that there are no duplicate values\n",
        "df.describe()"
      ]
    },
    {
      "cell_type": "code",
      "source": [
        "df"
      ],
      "metadata": {
        "colab": {
          "base_uri": "https://localhost:8080/",
          "height": 423
        },
        "id": "w0mz_o81l4Rn",
        "outputId": "5f966a8c-2537-4e36-a59c-066c9866cc9e"
      },
      "id": "w0mz_o81l4Rn",
      "execution_count": 98,
      "outputs": [
        {
          "output_type": "execute_result",
          "data": {
            "text/plain": [
              "          id  keyword                 location  \\\n",
              "2          2   ablaze            New York City   \n",
              "3          3   ablaze           Morgantown, WV   \n",
              "5          5   ablaze                       OC   \n",
              "6          6   ablaze          London, England   \n",
              "7          7   ablaze                   Bharat   \n",
              "...      ...      ...                      ...   \n",
              "11362  11362  wrecked         feuille d'érable   \n",
              "11365  11365  wrecked  Blue State in a red sea   \n",
              "11366  11366  wrecked               arohaonces   \n",
              "11367  11367  wrecked                       🇵🇭   \n",
              "11368  11368  wrecked           auroraborealis   \n",
              "\n",
              "                                                    text  target  \n",
              "2      Arsonist sets cars ablaze at dealership https:...       1  \n",
              "3      Arsonist sets cars ablaze at dealership https:...       1  \n",
              "5      If this child was Chinese, this tweet would ha...       0  \n",
              "6      Several houses have been set ablaze in Ngemsib...       1  \n",
              "7      Asansol: A BJP office in Salanpur village was ...       1  \n",
              "...                                                  ...     ...  \n",
              "11362  Stell wrecked ako palagi sayo. Haha. #ALABTopS...       0  \n",
              "11365  Media should have warned us well in advance. T...       0  \n",
              "11366  i feel directly attacked 💀 i consider moonbin ...       0  \n",
              "11367  i feel directly attacked 💀 i consider moonbin ...       0  \n",
              "11368  ok who remember \"outcast\" nd the \"dora\" au?? T...       0  \n",
              "\n",
              "[7952 rows x 5 columns]"
            ],
            "text/html": [
              "\n",
              "  <div id=\"df-ca62b5cf-ddb3-410f-8daa-c60b4238d3e8\">\n",
              "    <div class=\"colab-df-container\">\n",
              "      <div>\n",
              "<style scoped>\n",
              "    .dataframe tbody tr th:only-of-type {\n",
              "        vertical-align: middle;\n",
              "    }\n",
              "\n",
              "    .dataframe tbody tr th {\n",
              "        vertical-align: top;\n",
              "    }\n",
              "\n",
              "    .dataframe thead th {\n",
              "        text-align: right;\n",
              "    }\n",
              "</style>\n",
              "<table border=\"1\" class=\"dataframe\">\n",
              "  <thead>\n",
              "    <tr style=\"text-align: right;\">\n",
              "      <th></th>\n",
              "      <th>id</th>\n",
              "      <th>keyword</th>\n",
              "      <th>location</th>\n",
              "      <th>text</th>\n",
              "      <th>target</th>\n",
              "    </tr>\n",
              "  </thead>\n",
              "  <tbody>\n",
              "    <tr>\n",
              "      <th>2</th>\n",
              "      <td>2</td>\n",
              "      <td>ablaze</td>\n",
              "      <td>New York City</td>\n",
              "      <td>Arsonist sets cars ablaze at dealership https:...</td>\n",
              "      <td>1</td>\n",
              "    </tr>\n",
              "    <tr>\n",
              "      <th>3</th>\n",
              "      <td>3</td>\n",
              "      <td>ablaze</td>\n",
              "      <td>Morgantown, WV</td>\n",
              "      <td>Arsonist sets cars ablaze at dealership https:...</td>\n",
              "      <td>1</td>\n",
              "    </tr>\n",
              "    <tr>\n",
              "      <th>5</th>\n",
              "      <td>5</td>\n",
              "      <td>ablaze</td>\n",
              "      <td>OC</td>\n",
              "      <td>If this child was Chinese, this tweet would ha...</td>\n",
              "      <td>0</td>\n",
              "    </tr>\n",
              "    <tr>\n",
              "      <th>6</th>\n",
              "      <td>6</td>\n",
              "      <td>ablaze</td>\n",
              "      <td>London, England</td>\n",
              "      <td>Several houses have been set ablaze in Ngemsib...</td>\n",
              "      <td>1</td>\n",
              "    </tr>\n",
              "    <tr>\n",
              "      <th>7</th>\n",
              "      <td>7</td>\n",
              "      <td>ablaze</td>\n",
              "      <td>Bharat</td>\n",
              "      <td>Asansol: A BJP office in Salanpur village was ...</td>\n",
              "      <td>1</td>\n",
              "    </tr>\n",
              "    <tr>\n",
              "      <th>...</th>\n",
              "      <td>...</td>\n",
              "      <td>...</td>\n",
              "      <td>...</td>\n",
              "      <td>...</td>\n",
              "      <td>...</td>\n",
              "    </tr>\n",
              "    <tr>\n",
              "      <th>11362</th>\n",
              "      <td>11362</td>\n",
              "      <td>wrecked</td>\n",
              "      <td>feuille d'érable</td>\n",
              "      <td>Stell wrecked ako palagi sayo. Haha. #ALABTopS...</td>\n",
              "      <td>0</td>\n",
              "    </tr>\n",
              "    <tr>\n",
              "      <th>11365</th>\n",
              "      <td>11365</td>\n",
              "      <td>wrecked</td>\n",
              "      <td>Blue State in a red sea</td>\n",
              "      <td>Media should have warned us well in advance. T...</td>\n",
              "      <td>0</td>\n",
              "    </tr>\n",
              "    <tr>\n",
              "      <th>11366</th>\n",
              "      <td>11366</td>\n",
              "      <td>wrecked</td>\n",
              "      <td>arohaonces</td>\n",
              "      <td>i feel directly attacked 💀 i consider moonbin ...</td>\n",
              "      <td>0</td>\n",
              "    </tr>\n",
              "    <tr>\n",
              "      <th>11367</th>\n",
              "      <td>11367</td>\n",
              "      <td>wrecked</td>\n",
              "      <td>🇵🇭</td>\n",
              "      <td>i feel directly attacked 💀 i consider moonbin ...</td>\n",
              "      <td>0</td>\n",
              "    </tr>\n",
              "    <tr>\n",
              "      <th>11368</th>\n",
              "      <td>11368</td>\n",
              "      <td>wrecked</td>\n",
              "      <td>auroraborealis</td>\n",
              "      <td>ok who remember \"outcast\" nd the \"dora\" au?? T...</td>\n",
              "      <td>0</td>\n",
              "    </tr>\n",
              "  </tbody>\n",
              "</table>\n",
              "<p>7952 rows × 5 columns</p>\n",
              "</div>\n",
              "      <button class=\"colab-df-convert\" onclick=\"convertToInteractive('df-ca62b5cf-ddb3-410f-8daa-c60b4238d3e8')\"\n",
              "              title=\"Convert this dataframe to an interactive table.\"\n",
              "              style=\"display:none;\">\n",
              "        \n",
              "  <svg xmlns=\"http://www.w3.org/2000/svg\" height=\"24px\"viewBox=\"0 0 24 24\"\n",
              "       width=\"24px\">\n",
              "    <path d=\"M0 0h24v24H0V0z\" fill=\"none\"/>\n",
              "    <path d=\"M18.56 5.44l.94 2.06.94-2.06 2.06-.94-2.06-.94-.94-2.06-.94 2.06-2.06.94zm-11 1L8.5 8.5l.94-2.06 2.06-.94-2.06-.94L8.5 2.5l-.94 2.06-2.06.94zm10 10l.94 2.06.94-2.06 2.06-.94-2.06-.94-.94-2.06-.94 2.06-2.06.94z\"/><path d=\"M17.41 7.96l-1.37-1.37c-.4-.4-.92-.59-1.43-.59-.52 0-1.04.2-1.43.59L10.3 9.45l-7.72 7.72c-.78.78-.78 2.05 0 2.83L4 21.41c.39.39.9.59 1.41.59.51 0 1.02-.2 1.41-.59l7.78-7.78 2.81-2.81c.8-.78.8-2.07 0-2.86zM5.41 20L4 18.59l7.72-7.72 1.47 1.35L5.41 20z\"/>\n",
              "  </svg>\n",
              "      </button>\n",
              "      \n",
              "  <style>\n",
              "    .colab-df-container {\n",
              "      display:flex;\n",
              "      flex-wrap:wrap;\n",
              "      gap: 12px;\n",
              "    }\n",
              "\n",
              "    .colab-df-convert {\n",
              "      background-color: #E8F0FE;\n",
              "      border: none;\n",
              "      border-radius: 50%;\n",
              "      cursor: pointer;\n",
              "      display: none;\n",
              "      fill: #1967D2;\n",
              "      height: 32px;\n",
              "      padding: 0 0 0 0;\n",
              "      width: 32px;\n",
              "    }\n",
              "\n",
              "    .colab-df-convert:hover {\n",
              "      background-color: #E2EBFA;\n",
              "      box-shadow: 0px 1px 2px rgba(60, 64, 67, 0.3), 0px 1px 3px 1px rgba(60, 64, 67, 0.15);\n",
              "      fill: #174EA6;\n",
              "    }\n",
              "\n",
              "    [theme=dark] .colab-df-convert {\n",
              "      background-color: #3B4455;\n",
              "      fill: #D2E3FC;\n",
              "    }\n",
              "\n",
              "    [theme=dark] .colab-df-convert:hover {\n",
              "      background-color: #434B5C;\n",
              "      box-shadow: 0px 1px 3px 1px rgba(0, 0, 0, 0.15);\n",
              "      filter: drop-shadow(0px 1px 2px rgba(0, 0, 0, 0.3));\n",
              "      fill: #FFFFFF;\n",
              "    }\n",
              "  </style>\n",
              "\n",
              "      <script>\n",
              "        const buttonEl =\n",
              "          document.querySelector('#df-ca62b5cf-ddb3-410f-8daa-c60b4238d3e8 button.colab-df-convert');\n",
              "        buttonEl.style.display =\n",
              "          google.colab.kernel.accessAllowed ? 'block' : 'none';\n",
              "\n",
              "        async function convertToInteractive(key) {\n",
              "          const element = document.querySelector('#df-ca62b5cf-ddb3-410f-8daa-c60b4238d3e8');\n",
              "          const dataTable =\n",
              "            await google.colab.kernel.invokeFunction('convertToInteractive',\n",
              "                                                     [key], {});\n",
              "          if (!dataTable) return;\n",
              "\n",
              "          const docLinkHtml = 'Like what you see? Visit the ' +\n",
              "            '<a target=\"_blank\" href=https://colab.research.google.com/notebooks/data_table.ipynb>data table notebook</a>'\n",
              "            + ' to learn more about interactive tables.';\n",
              "          element.innerHTML = '';\n",
              "          dataTable['output_type'] = 'display_data';\n",
              "          await google.colab.output.renderOutput(dataTable, element);\n",
              "          const docLink = document.createElement('div');\n",
              "          docLink.innerHTML = docLinkHtml;\n",
              "          element.appendChild(docLink);\n",
              "        }\n",
              "      </script>\n",
              "    </div>\n",
              "  </div>\n",
              "  "
            ]
          },
          "metadata": {},
          "execution_count": 98
        }
      ]
    },
    {
      "cell_type": "code",
      "source": [
        "# Visualzing keyword data count of values using histogram\n",
        "plt2.pyplot.figure(figsize=(10,6))\n",
        "sns.distplot(df['keyword'].value_counts())"
      ],
      "metadata": {
        "colab": {
          "base_uri": "https://localhost:8080/",
          "height": 443
        },
        "id": "bxZgU2090s2N",
        "outputId": "1206bb67-dd72-4df0-cb26-740be4c46b21"
      },
      "id": "bxZgU2090s2N",
      "execution_count": 27,
      "outputs": [
        {
          "output_type": "stream",
          "name": "stderr",
          "text": [
            "/usr/local/lib/python3.7/dist-packages/seaborn/distributions.py:2619: FutureWarning: `distplot` is a deprecated function and will be removed in a future version. Please adapt your code to use either `displot` (a figure-level function with similar flexibility) or `histplot` (an axes-level function for histograms).\n",
            "  warnings.warn(msg, FutureWarning)\n"
          ]
        },
        {
          "output_type": "display_data",
          "data": {
            "text/plain": [
              "<Figure size 720x432 with 1 Axes>"
            ],
            "image/png": "[encoded data removed]"
          },
          "metadata": {
            "needs_background": "light"
          }
        }
      ]
    },
    {
      "cell_type": "code",
      "source": [
        "# Creating a new column(location) with count of distinct keyword values\n",
        "p = df[['keyword', 'location']]\n",
        "p.groupby(['location'])\n",
        "p_count = (p.groupby(['keyword']).count())\n",
        "p_count"
      ],
      "metadata": {
        "colab": {
          "base_uri": "https://localhost:8080/",
          "height": 455
        },
        "id": "PlPmYMz64jOh",
        "outputId": "86e52bd6-7e88-441e-9a1c-29d4215ea2df"
      },
      "id": "PlPmYMz64jOh",
      "execution_count": 114,
      "outputs": [
        {
          "output_type": "execute_result",
          "data": {
            "text/plain": [
              "                     location\n",
              "keyword                      \n",
              "ablaze                     17\n",
              "accident                   27\n",
              "aftershock                 34\n",
              "airplane%20accident        54\n",
              "ambulance                  26\n",
              "...                       ...\n",
              "wounded                    26\n",
              "wounds                     33\n",
              "wreck                      42\n",
              "wreckage                   19\n",
              "wrecked                    25\n",
              "\n",
              "[219 rows x 1 columns]"
            ],
            "text/html": [
              "\n",
              "  <div id=\"df-e2d4df56-b1d6-4179-86f8-9dc894b63ce9\">\n",
              "    <div class=\"colab-df-container\">\n",
              "      <div>\n",
              "<style scoped>\n",
              "    .dataframe tbody tr th:only-of-type {\n",
              "        vertical-align: middle;\n",
              "    }\n",
              "\n",
              "    .dataframe tbody tr th {\n",
              "        vertical-align: top;\n",
              "    }\n",
              "\n",
              "    .dataframe thead th {\n",
              "        text-align: right;\n",
              "    }\n",
              "</style>\n",
              "<table border=\"1\" class=\"dataframe\">\n",
              "  <thead>\n",
              "    <tr style=\"text-align: right;\">\n",
              "      <th></th>\n",
              "      <th>location</th>\n",
              "    </tr>\n",
              "    <tr>\n",
              "      <th>keyword</th>\n",
              "      <th></th>\n",
              "    </tr>\n",
              "  </thead>\n",
              "  <tbody>\n",
              "    <tr>\n",
              "      <th>ablaze</th>\n",
              "      <td>17</td>\n",
              "    </tr>\n",
              "    <tr>\n",
              "      <th>accident</th>\n",
              "      <td>27</td>\n",
              "    </tr>\n",
              "    <tr>\n",
              "      <th>aftershock</th>\n",
              "      <td>34</td>\n",
              "    </tr>\n",
              "    <tr>\n",
              "      <th>airplane%20accident</th>\n",
              "      <td>54</td>\n",
              "    </tr>\n",
              "    <tr>\n",
              "      <th>ambulance</th>\n",
              "      <td>26</td>\n",
              "    </tr>\n",
              "    <tr>\n",
              "      <th>...</th>\n",
              "      <td>...</td>\n",
              "    </tr>\n",
              "    <tr>\n",
              "      <th>wounded</th>\n",
              "      <td>26</td>\n",
              "    </tr>\n",
              "    <tr>\n",
              "      <th>wounds</th>\n",
              "      <td>33</td>\n",
              "    </tr>\n",
              "    <tr>\n",
              "      <th>wreck</th>\n",
              "      <td>42</td>\n",
              "    </tr>\n",
              "    <tr>\n",
              "      <th>wreckage</th>\n",
              "      <td>19</td>\n",
              "    </tr>\n",
              "    <tr>\n",
              "      <th>wrecked</th>\n",
              "      <td>25</td>\n",
              "    </tr>\n",
              "  </tbody>\n",
              "</table>\n",
              "<p>219 rows × 1 columns</p>\n",
              "</div>\n",
              "      <button class=\"colab-df-convert\" onclick=\"convertToInteractive('df-e2d4df56-b1d6-4179-86f8-9dc894b63ce9')\"\n",
              "              title=\"Convert this dataframe to an interactive table.\"\n",
              "              style=\"display:none;\">\n",
              "        \n",
              "  <svg xmlns=\"http://www.w3.org/2000/svg\" height=\"24px\"viewBox=\"0 0 24 24\"\n",
              "       width=\"24px\">\n",
              "    <path d=\"M0 0h24v24H0V0z\" fill=\"none\"/>\n",
              "    <path d=\"M18.56 5.44l.94 2.06.94-2.06 2.06-.94-2.06-.94-.94-2.06-.94 2.06-2.06.94zm-11 1L8.5 8.5l.94-2.06 2.06-.94-2.06-.94L8.5 2.5l-.94 2.06-2.06.94zm10 10l.94 2.06.94-2.06 2.06-.94-2.06-.94-.94-2.06-.94 2.06-2.06.94z\"/><path d=\"M17.41 7.96l-1.37-1.37c-.4-.4-.92-.59-1.43-.59-.52 0-1.04.2-1.43.59L10.3 9.45l-7.72 7.72c-.78.78-.78 2.05 0 2.83L4 21.41c.39.39.9.59 1.41.59.51 0 1.02-.2 1.41-.59l7.78-7.78 2.81-2.81c.8-.78.8-2.07 0-2.86zM5.41 20L4 18.59l7.72-7.72 1.47 1.35L5.41 20z\"/>\n",
              "  </svg>\n",
              "      </button>\n",
              "      \n",
              "  <style>\n",
              "    .colab-df-container {\n",
              "      display:flex;\n",
              "      flex-wrap:wrap;\n",
              "      gap: 12px;\n",
              "    }\n",
              "\n",
              "    .colab-df-convert {\n",
              "      background-color: #E8F0FE;\n",
              "      border: none;\n",
              "      border-radius: 50%;\n",
              "      cursor: pointer;\n",
              "      display: none;\n",
              "      fill: #1967D2;\n",
              "      height: 32px;\n",
              "      padding: 0 0 0 0;\n",
              "      width: 32px;\n",
              "    }\n",
              "\n",
              "    .colab-df-convert:hover {\n",
              "      background-color: #E2EBFA;\n",
              "      box-shadow: 0px 1px 2px rgba(60, 64, 67, 0.3), 0px 1px 3px 1px rgba(60, 64, 67, 0.15);\n",
              "      fill: #174EA6;\n",
              "    }\n",
              "\n",
              "    [theme=dark] .colab-df-convert {\n",
              "      background-color: #3B4455;\n",
              "      fill: #D2E3FC;\n",
              "    }\n",
              "\n",
              "    [theme=dark] .colab-df-convert:hover {\n",
              "      background-color: #434B5C;\n",
              "      box-shadow: 0px 1px 3px 1px rgba(0, 0, 0, 0.15);\n",
              "      filter: drop-shadow(0px 1px 2px rgba(0, 0, 0, 0.3));\n",
              "      fill: #FFFFFF;\n",
              "    }\n",
              "  </style>\n",
              "\n",
              "      <script>\n",
              "        const buttonEl =\n",
              "          document.querySelector('#df-e2d4df56-b1d6-4179-86f8-9dc894b63ce9 button.colab-df-convert');\n",
              "        buttonEl.style.display =\n",
              "          google.colab.kernel.accessAllowed ? 'block' : 'none';\n",
              "\n",
              "        async function convertToInteractive(key) {\n",
              "          const element = document.querySelector('#df-e2d4df56-b1d6-4179-86f8-9dc894b63ce9');\n",
              "          const dataTable =\n",
              "            await google.colab.kernel.invokeFunction('convertToInteractive',\n",
              "                                                     [key], {});\n",
              "          if (!dataTable) return;\n",
              "\n",
              "          const docLinkHtml = 'Like what you see? Visit the ' +\n",
              "            '<a target=\"_blank\" href=https://colab.research.google.com/notebooks/data_table.ipynb>data table notebook</a>'\n",
              "            + ' to learn more about interactive tables.';\n",
              "          element.innerHTML = '';\n",
              "          dataTable['output_type'] = 'display_data';\n",
              "          await google.colab.output.renderOutput(dataTable, element);\n",
              "          const docLink = document.createElement('div');\n",
              "          docLink.innerHTML = docLinkHtml;\n",
              "          element.appendChild(docLink);\n",
              "        }\n",
              "      </script>\n",
              "    </div>\n",
              "  </div>\n",
              "  "
            ]
          },
          "metadata": {},
          "execution_count": 114
        }
      ]
    },
    {
      "cell_type": "markdown",
      "source": [
        "lets have a look at the frequency of locations a disaster occurred in the country using scatter plot"
      ],
      "metadata": {
        "id": "QY4x3qQxo26J"
      },
      "id": "QY4x3qQxo26J"
    },
    {
      "cell_type": "code",
      "source": [
        "plt2.pyplot.figure(figsize=(16,8))\n",
        "plt.scatter(p_count.index, p_count['location'], c='blue')\n",
        "plt.show()"
      ],
      "metadata": {
        "colab": {
          "base_uri": "https://localhost:8080/",
          "height": 483
        },
        "id": "Fo06y9cE4FX0",
        "outputId": "6a677a86-d2be-43a0-e368-a3eb655284f2"
      },
      "id": "Fo06y9cE4FX0",
      "execution_count": 116,
      "outputs": [
        {
          "output_type": "display_data",
          "data": {
            "text/plain": [
              "<Figure size 1152x576 with 1 Axes>"
            ],
            "image/png": "[encoded data removed]"
          },
          "metadata": {
            "needs_background": "light"
          }
        }
      ]
    },
    {
      "cell_type": "code",
      "source": [
        "print(\"Texas mostly faces:\\n\")\n",
        "df[['location','keyword']].groupby('location').max().loc['TX']"
      ],
      "metadata": {
        "colab": {
          "base_uri": "https://localhost:8080/"
        },
        "id": "YJwLEiPTx0ge",
        "outputId": "10d86392-dfc1-4830-81ec-1d6478025b22"
      },
      "id": "YJwLEiPTx0ge",
      "execution_count": 46,
      "outputs": [
        {
          "output_type": "stream",
          "name": "stdout",
          "text": [
            "Texas mostly faces:\n",
            "\n"
          ]
        },
        {
          "output_type": "execute_result",
          "data": {
            "text/plain": [
              "keyword    electrocute\n",
              "Name: TX, dtype: object"
            ]
          },
          "metadata": {},
          "execution_count": 46
        }
      ]
    },
    {
      "cell_type": "code",
      "execution_count": 117,
      "id": "cb64453e",
      "metadata": {
        "colab": {
          "base_uri": "https://localhost:8080/",
          "height": 296
        },
        "id": "cb64453e",
        "outputId": "1fdba7f9-31f2-4693-f830-c7fc253db27d"
      },
      "outputs": [
        {
          "output_type": "execute_result",
          "data": {
            "text/plain": [
              "<matplotlib.axes._subplots.AxesSubplot at 0x7f0b2d9f4290>"
            ]
          },
          "metadata": {},
          "execution_count": 117
        },
        {
          "output_type": "display_data",
          "data": {
            "text/plain": [
              "<Figure size 432x288 with 1 Axes>"
            ],
            "image/png": "[encoded data removed]"
          },
          "metadata": {
            "needs_background": "light"
          }
        }
      ],
      "source": [
        "#Detecting outliners using boxplot from the data\n",
        "sns.boxplot(x=p_count.index, y=p_count['location'])"
      ]
    },
    {
      "cell_type": "markdown",
      "source": [
        "Contributions : - \n",
        "\n",
        "\n",
        "\n",
        "Vineeth Akula – 11591902 {Data cleaning}\n",
        "\n",
        "Udayram Vanam – 11519685 {Code}\n",
        "\n",
        "Haryanth Gosika - 11604529 {code}\n",
        "\n",
        "Nikhil Mallepaka - 11601263 {Dataset}\n",
        "\n",
        "Uday Kiran Reddy Kotha - 11608672 {Requirement and Analysis}\n",
        "\n",
        "Sridhar Goud Maddi – 11610534 {Requirement and Analysis}\n",
        "\n",
        "\n",
        "\n",
        "\n",
        "\n",
        "\n",
        "\n",
        "\n",
        "\n"
      ],
      "metadata": {
        "id": "SnkeL3HbNjxY"
      },
      "id": "SnkeL3HbNjxY"
    }
  ],
  "metadata": {
    "kernelspec": {
      "display_name": "Python 3 (ipykernel)",
      "language": "python",
      "name": "python3"
    },
    "language_info": {
      "codemirror_mode": {
        "name": "ipython",
        "version": 3
      },
      "file_extension": ".py",
      "mimetype": "text/x-python",
      "name": "python",
      "nbconvert_exporter": "python",
      "pygments_lexer": "ipython3",
      "version": "3.9.12"
    },
    "colab": {
      "provenance": []
    }
  },
  "nbformat": 4,
  "nbformat_minor": 5
}